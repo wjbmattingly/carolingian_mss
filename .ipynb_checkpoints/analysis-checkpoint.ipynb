{
 "cells": [
  {
   "cell_type": "code",
   "execution_count": 13,
   "id": "further-visiting",
   "metadata": {},
   "outputs": [],
   "source": [
    "import glob\n",
    "import json\n",
    "import pandas as pd"
   ]
  },
  {
   "cell_type": "code",
   "execution_count": 14,
   "id": "quiet-welcome",
   "metadata": {},
   "outputs": [
    {
     "name": "stdout",
     "output_type": "stream",
     "text": [
      "226\n"
     ]
    }
   ],
   "source": [
    "files = glob.glob(\"carolingian_exegesis/*.txt\")\n",
    "print (len(files))"
   ]
  },
  {
   "cell_type": "code",
   "execution_count": 146,
   "id": "hundred-fellow",
   "metadata": {},
   "outputs": [
    {
     "name": "stdout",
     "output_type": "stream",
     "text": [
      "2744\n",
      "41\n"
     ]
    }
   ],
   "source": [
    "all_data = []\n",
    "weird = []\n",
    "odd_mss = []\n",
    "for file in files:\n",
    "#     print (file)\n",
    "    with open (file,  'r', encoding=\"utf-8\") as f:\n",
    "        data = f.read()\n",
    "        segments = data.split(\"\\n\")\n",
    "        title = segments[0]\n",
    "        if \"|\" in segments[1]:\n",
    "            work_type, book = segments[1].split(\" | \")\n",
    "        else:\n",
    "            work_type, book = [\"unknown\", \"unknown\"]\n",
    "        manuscripts = segments[3:]\n",
    "        all_mss = \"\\n\".join(manuscripts)\n",
    "        new = all_mss.split(\"Bibliography\")[0].split(\"Article\")[0]\n",
    "        new = new.split(\"\\n\")\n",
    "#         new = all_mss.split(\"Edition\")[0]\n",
    "        \n",
    "        \n",
    "        \n",
    "#         new = all_mss.split(\"\\n\")\n",
    "        \n",
    "\n",
    "        mss = []\n",
    "        for ms in new:\n",
    "            if len(ms) > 20:\n",
    "                temp = ms.replace(\"[\", \"\")\n",
    "                if temp[0].isdigit():\n",
    "                    shelfmark = ms.split(\" \", 1)[1]\n",
    "                    if \"-\" != shelfmark[0]:\n",
    "                        shelfmark = shelfmark.replace(\"Wolfenbüttel. Herzog\", \"Wolfenbüttel, Herzog\").replace(\"Grenoble. Bibliothèque\", \"Grenoble, Bibliothèque\").replace(\"Paris. Bibliothèque nationale\", \"Paris, Bibliothèque nationale\").replace(\"Munich. Bayerische Staatsbibliothek\", \"Munich, Bayerische Staatsbibliothek\").replace(\".Zwettl\", \"Zwettl\").replace(\". Troyes, Biblio\", \"Troyes, Biblio\").replace(\"Assisi. Bi\", \"Assisi, Bi\").replace(\"Avranches. B\", \"Avranches, B\").replace(\"Basel Un\", \"Basel, Un\").replace(\"Frankfurt-am-Main. St\", \"Frankfurt-am-Main, St\").replace(\"Einsiedeln 132 (803)\", \"Einsiedeln, Einsiedeln 132 (803)\").strip()\n",
    "                        city = shelfmark.split(\",\")[0]\n",
    "                        if len(city) < 20:\n",
    "                            mss.append(shelfmark)\n",
    "                        else:\n",
    "                            if \"Cambridge\" in city or \"Brno (Brünn)\" in city:\n",
    "                                mss.append(shelfmark)\n",
    "                            else:\n",
    "                                weird.append(shelfmark)\n",
    "#         odd_mss = []\n",
    "        all_mss = []\n",
    "        person =file.split(\"_\")[3]\n",
    "        text = file.split(\"_\")[4:]\n",
    "        text = \" \".join(text)\n",
    "        text = text.replace(\".txt\", \"\")\n",
    "        \n",
    "        for ms in mss:\n",
    "            folia = \"\"\n",
    "            cent = \"unknown\"\n",
    "            shelfmark = \"\"\n",
    "            city = \"\"\n",
    "            try:\n",
    "#                 print (ms)\n",
    "                ms = ms.replace(\". saec\", \", saec\")\n",
    "                city = ms.split(\",\")[0]\n",
    "                shelfmark = ms.split(\",\")[1]\n",
    "#                 shelfmark = ms.split(\",\")[2]\n",
    "                if \"f.\" in ms:\n",
    "                    after = ms.split(\"f.\")[1]\n",
    "                    folia = \"f\"+after.split(\".\")[0]\n",
    "                    if \"saec\" in after:\n",
    "                        cent = after.split(\"saec.\")[1].strip()\n",
    "                if \"p.\" in ms:\n",
    "                    after = ms.split(\"p.\")[1]\n",
    "                    folia = \"p\"+after.split(\".\")[0]\n",
    "                    if \"saec\" in after:\n",
    "                        cent = after.split(\"saec.\")[1].strip()\n",
    "                folia = folia.replace(\", saec\", \"\").replace(\"f\", \"\").replace(\"p\", \"\").strip()\n",
    "                cent = cent.split(\".\")[0].split(\";\")[0].lower().split(\"(\")[0]\n",
    "                if cent == \"unknown\":\n",
    "                    if \"saec\" in ms:\n",
    "                        temp = ms.replace(\"saec.\", \"saec\")\n",
    "                        cent = temp.split(\"saec\")[1].split(\".\")[0].strip().split(\",\")[0].split(\"(\")[0].split(\";\")[0]\n",
    "\n",
    "                all_mss.append(temp)\n",
    "                all_data.append({\"person\": person, \"text\": text, \"type\": work_type, \"book\": book, \"ms\": ms,\n",
    "                        \"city\": city,\n",
    "                        \"shelfmark\": shelfmark,\n",
    "                        \"folia\": folia,\n",
    "                        \"date\": cent})\n",
    "            except:\n",
    "                Exception\n",
    "                odd_mss.append(ms)\n",
    "\n",
    "            \n",
    "            \n",
    "            \n",
    "            \n",
    "print (len(all_data))\n",
    "print (len(weird))"
   ]
  },
  {
   "cell_type": "code",
   "execution_count": 149,
   "id": "funky-stability",
   "metadata": {},
   "outputs": [],
   "source": [
    "# pd.set_option('display.max_rows', None)\n",
    "df = pd.DataFrame(all_data)\n",
    "df.to_csv(\"bvne_mss.csv\")"
   ]
  },
  {
   "cell_type": "code",
   "execution_count": 58,
   "id": "matched-burlington",
   "metadata": {},
   "outputs": [],
   "source": [
    "# cities = []\n",
    "# issues = []\n",
    "# wrong = ['(S)*', '(saec', '1-205', '1044', '18328', '2-26v', '2-68', '23r-46v', '2r-137r', '31r-62r', '437)', '9520', '97r-148v']\n",
    "# for ms in all_data:\n",
    "#     try:\n",
    "#         data = ms.split(\".\")[1].split(\",\")\n",
    "#         city = data[0].strip()\n",
    "#         if len(city) > 3:\n",
    "#             words = city.split()\n",
    "#             if len(words) < 3 and city not in wrong:\n",
    "#                 cities.append(city)\n",
    "#     except:\n",
    "#         IndexError\n",
    "# print (len(cities))\n",
    "\n",
    "# print (issues)\n",
    "\n",
    "# unique_cities = list(set(cities))\n",
    "# print (len(unique_cities))\n",
    "# unique_cities.sort()\n",
    "# print (unique_cities)"
   ]
  },
  {
   "cell_type": "code",
   "execution_count": 109,
   "id": "powered-waterproof",
   "metadata": {},
   "outputs": [],
   "source": [
    "# all_data = []\n",
    "# for file in files:\n",
    "#     print (file)\n",
    "#     with open (file,  'r', encoding=\"utf-8\") as f:\n",
    "#         data = f.read()\n",
    "#         segments = data.split(\"\\n\")\n",
    "#         title = segments[0]\n",
    "#         manuscripts = segments[3:]\n",
    "#         mss = []\n",
    "#         for ms in manuscripts:\n",
    "#             if len(ms) > 1:\n",
    "#                 mss.append(ms)\n",
    "#         print (len(mss))\n",
    "#         all_mss = []\n",
    "#         for ms in mss:\n",
    "#             print (ms)\n",
    "#             city = ms.split(\",\")[0]\n",
    "#             archive = ms.split(\",\")[1]\n",
    "#             shelfmark = ms.split(\",\")[2]\n",
    "#             if \"f\" in ms:\n",
    "#                 after = ms.split(\"f.\")[1]\n",
    "#                 folia = \"f\"+after.split(\".\")[0]\n",
    "#                 if \"saec\" in after:\n",
    "#                     cent = after.split(\"saec.\")[1].strip()\n",
    "#             if \"p\" in ms:\n",
    "#                 after = ms.split(\"p\")[1]\n",
    "#                 folia = \"p\"+after.split(\".\")[0]\n",
    "#                 if \"saec\" in after:\n",
    "#                     cent = after.split(\"saec.\")[1].strip()\n",
    "#             temp = {\"ms\": ms,\n",
    "#                     \"city\": city,\n",
    "#                     \"archive\": archive,\n",
    "#                     \"shelfmark\": shelfmark,\n",
    "#                     \"folia\": folia,\n",
    "#                     \"date\": cent}\n",
    "#             all_mss.append(temp)\n",
    "#         person =file.split(\"_\")[3]\n",
    "#         text = file.split(\"_\")[4:]\n",
    "#         text = \" \".join(text)\n",
    "#         text = text.replace(\".txt\", \"\")\n",
    "#         all_data.append({\"person\": person, \"text\": text, \"mss\": all_mss})\n",
    "        "
   ]
  },
  {
   "cell_type": "code",
   "execution_count": 110,
   "id": "dedicated-lucas",
   "metadata": {},
   "outputs": [],
   "source": [
    "# print (all_data)"
   ]
  },
  {
   "cell_type": "code",
   "execution_count": null,
   "id": "located-feeling",
   "metadata": {},
   "outputs": [],
   "source": []
  }
 ],
 "metadata": {
  "kernelspec": {
   "display_name": "Python 3",
   "language": "python",
   "name": "python3"
  },
  "language_info": {
   "codemirror_mode": {
    "name": "ipython",
    "version": 3
   },
   "file_extension": ".py",
   "mimetype": "text/x-python",
   "name": "python",
   "nbconvert_exporter": "python",
   "pygments_lexer": "ipython3",
   "version": "3.9.2"
  }
 },
 "nbformat": 4,
 "nbformat_minor": 5
}
